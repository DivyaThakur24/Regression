{
 "cells": [
  {
   "cell_type": "code",
   "execution_count": null,
   "metadata": {},
   "outputs": [],
   "source": [
    "import numpy as np\n",
    "import pandas as pd\n",
    "import matplotlib.pyplot as plt"
   ]
  },
  {
   "cell_type": "code",
   "execution_count": null,
   "metadata": {},
   "outputs": [],
   "source": [
    "#Load Dataset\n",
    "df=pd.read_csv('Iris.csv')"
   ]
  },
  {
   "cell_type": "code",
   "execution_count": null,
   "metadata": {},
   "outputs": [],
   "source": [
    "df.head(10)"
   ]
  },
  {
   "cell_type": "code",
   "execution_count": null,
   "metadata": {},
   "outputs": [],
   "source": [
    "df.shape"
   ]
  },
  {
   "cell_type": "markdown",
   "metadata": {},
   "source": [
    "# Sepal Length vs Sepal Width of IRIS Setosa"
   ]
  },
  {
   "cell_type": "code",
   "execution_count": null,
   "metadata": {},
   "outputs": [],
   "source": [
    "df.SepalLengthCm.corr(df.SepalWidthCm)"
   ]
  },
  {
   "cell_type": "code",
   "execution_count": null,
   "metadata": {},
   "outputs": [],
   "source": [
    "#taking only first 50 columns of Iris-setosa species\n",
    "m,n=df.shape\n",
    "X=df.SepalLengthCm.iloc[0:120].values.reshape(120,1)\n",
    "Y=df.SepalWidthCm.iloc[0:120].values.reshape(120,1)"
   ]
  },
  {
   "cell_type": "code",
   "execution_count": null,
   "metadata": {},
   "outputs": [],
   "source": [
    "plt.scatter(X,Y)\n",
    "plt.xlabel('Sepal Length(in cm)')\n",
    "plt.ylabel('Sepal Width(in cm)')\n",
    "plt.title('Sepal length vs width of Iris-Setosa Species',color='green',fontsize=16)\n",
    "plt.show()"
   ]
  },
  {
   "cell_type": "markdown",
   "metadata": {},
   "source": [
    "# Without Gradient Descent"
   ]
  },
  {
   "cell_type": "code",
   "execution_count": null,
   "metadata": {},
   "outputs": [],
   "source": [
    "from sklearn import linear_model\n",
    "from sklearn.metrics import mean_squared_error"
   ]
  },
  {
   "cell_type": "code",
   "execution_count": null,
   "metadata": {},
   "outputs": [],
   "source": [
    "# Create linear regression object\n",
    "regr = linear_model.LinearRegression()"
   ]
  },
  {
   "cell_type": "code",
   "execution_count": null,
   "metadata": {},
   "outputs": [],
   "source": [
    "# Train the model using the training sets\n",
    "regr.fit(X,Y)"
   ]
  },
  {
   "cell_type": "code",
   "execution_count": null,
   "metadata": {},
   "outputs": [],
   "source": [
    "# The coefficients\n",
    "print('Coefficients: \\n', regr.coef_)\n",
    "# Intercept\n",
    "print('Intercept: \\n', regr.intercept_)"
   ]
  },
  {
   "cell_type": "code",
   "execution_count": null,
   "metadata": {},
   "outputs": [],
   "source": [
    "#Plotting Regression Line Against True Labels\n",
    "plt.scatter(X, Y,  color='black')\n",
    "plt.plot(X, regr.coef_[0][0]*X + regr.intercept_[0], '-b')\n",
    "plt.xlabel('Sepal Length(in cm)')\n",
    "plt.ylabel('Sepal Width(in cm)')\n",
    "plt.title('Sepal length vs width of Iris-Setosa Species',color='green',fontsize=16)\n",
    "plt.show()"
   ]
  },
  {
   "cell_type": "code",
   "execution_count": null,
   "metadata": {},
   "outputs": [],
   "source": [
    "#Evaluate Model\n",
    "\n",
    "# The mean squared error\n",
    "\n",
    "print(\"Mean squared error (Test Dataset): %.2f\" %mean_squared_error(Y,X))"
   ]
  },
  {
   "cell_type": "markdown",
   "metadata": {},
   "source": [
    "# With Gradient Descent"
   ]
  },
  {
   "cell_type": "code",
   "execution_count": null,
   "metadata": {},
   "outputs": [],
   "source": [
    "iterations = 100\n",
    "\n",
    "def gradient_descent(x,y):\n",
    "    m_curr = b_curr = 0\n",
    "    n = len(x)\n",
    "    learning_rate = 0.02\n",
    "    m = []\n",
    "    b = []\n",
    "    cost_func = []\n",
    "    \n",
    "    for i in range(iterations):\n",
    "        y_predicted = m_curr * x + b_curr\n",
    "        cost = (1/n) * sum((y - y_predicted)**2)\n",
    "        md = -(2/n) * sum(x*(y- y_predicted))\n",
    "        bd = -(2/n) * sum(y- y_predicted)\n",
    "        m_curr -= learning_rate * md\n",
    "        b_curr -= learning_rate * bd\n",
    "        print(\"i = {}, m = {}, b = {}, cost = {}\".format(i, m_curr, b_curr, cost))\n",
    "        m.append(m_curr)\n",
    "        b.append(b_curr)\n",
    "        cost_func.append(cost)\n",
    "    return m, b, cost_func"
   ]
  },
  {
   "cell_type": "code",
   "execution_count": null,
   "metadata": {},
   "outputs": [],
   "source": [
    "m, b, cost_func = gradient_descent(X, Y)"
   ]
  },
  {
   "cell_type": "code",
   "execution_count": null,
   "metadata": {},
   "outputs": [],
   "source": [
    "plt.plot(np.arange(iterations),cost_func, color='b')\n",
    "plt.xlabel('Number of iterations',color='red')\n",
    "plt.ylabel('Cost',color='red')\n",
    "plt.title('Cost vs iterations',color='green',fontsize=16)\n",
    "plt.show()"
   ]
  },
  {
   "cell_type": "code",
   "execution_count": null,
   "metadata": {},
   "outputs": [],
   "source": [
    "print(\"Mean squared error (Test Dataset): %.2f\" %mean_squared_error(m[-1]*X + b[-1],X))"
   ]
  },
  {
   "cell_type": "code",
   "execution_count": null,
   "metadata": {},
   "outputs": [],
   "source": [
    "plt.scatter(X,Y,marker='.')\n",
    "plt.plot(X,(m[-1]*X + b[-1]))\n",
    "plt.xlabel('Sepal Length(in cm)')\n",
    "plt.ylabel('Sepal Width(in cm)')\n",
    "plt.title('Sepal length vs width of Iris-Setosa Species',color='green',fontsize=16)\n",
    "plt.show()"
   ]
  },
  {
   "cell_type": "code",
   "execution_count": null,
   "metadata": {},
   "outputs": [],
   "source": [
    "plt.scatter(X,Y,marker='.')\n",
    "# Without Gradient Descent\n",
    "plt.plot(X, regr.coef_[0][0]*X + regr.intercept_[0], '-r')\n",
    "\n",
    "# With Gradient Descent\n",
    "plt.plot(X,m[-1]*X + b[-1],'g')\n",
    "\n",
    "plt.xlabel('Sepal Length(in cm)')\n",
    "plt.ylabel('Sepal Width(in cm)')\n",
    "plt.title('Sepal length vs width of Iris-Setosa Species',color='b',fontsize=16)\n",
    "plt.show()"
   ]
  },
  {
   "cell_type": "markdown",
   "metadata": {},
   "source": [
    "# Petal Length vs Petal Width of IRIS Setosa"
   ]
  },
  {
   "cell_type": "code",
   "execution_count": null,
   "metadata": {},
   "outputs": [],
   "source": [
    "df.PetalLengthCm.corr(df.PetalWidthCm)"
   ]
  },
  {
   "cell_type": "code",
   "execution_count": null,
   "metadata": {},
   "outputs": [],
   "source": [
    "#taking only first 50 columns of Iris-setosa species\n",
    "m,n=df.shape\n",
    "X=df.PetalLengthCm.iloc[0:50].values.reshape(50,1)\n",
    "Y=df.PetalWidthCm.iloc[0:50].values.reshape(50,1)"
   ]
  },
  {
   "cell_type": "code",
   "execution_count": null,
   "metadata": {},
   "outputs": [],
   "source": [
    "plt.scatter(X,Y)\n",
    "plt.xlabel('Petal Length(in cm)')\n",
    "plt.ylabel('Petal Width(in cm)')\n",
    "plt.title('Petal length vs width of Iris-Setosa Species',color='green',fontsize=16)\n",
    "plt.show()"
   ]
  },
  {
   "cell_type": "markdown",
   "metadata": {},
   "source": [
    "# Without Gradient Descent"
   ]
  },
  {
   "cell_type": "code",
   "execution_count": null,
   "metadata": {},
   "outputs": [],
   "source": [
    "# Create linear regression object\n",
    "regr = linear_model.LinearRegression()"
   ]
  },
  {
   "cell_type": "code",
   "execution_count": null,
   "metadata": {},
   "outputs": [],
   "source": [
    "# Train the model using the training sets\n",
    "regr.fit(X,Y)"
   ]
  },
  {
   "cell_type": "code",
   "execution_count": null,
   "metadata": {},
   "outputs": [],
   "source": [
    "# The coefficients\n",
    "print('Coefficients: \\n', regr.coef_)\n",
    "# Intercept\n",
    "print('Intercept: \\n', regr.intercept_)"
   ]
  },
  {
   "cell_type": "code",
   "execution_count": null,
   "metadata": {},
   "outputs": [],
   "source": [
    "#Plotting Regression Line Against True Labels\n",
    "plt.scatter(X, Y,  color='blue')\n",
    "plt.plot(X, regr.coef_[0][0]*X + regr.intercept_[0], '-r')\n",
    "plt.xlabel('Petal Length(in cm)')\n",
    "plt.ylabel('Petal Width(in cm)')\n",
    "plt.title('Petal length vs width of Iris-Setosa Species',color='green',fontsize=16)\n",
    "plt.show()"
   ]
  },
  {
   "cell_type": "code",
   "execution_count": null,
   "metadata": {},
   "outputs": [],
   "source": [
    "print(\"Mean squared error (Test Dataset): %.2f\" %mean_squared_error(Y,X))"
   ]
  },
  {
   "cell_type": "markdown",
   "metadata": {},
   "source": [
    "# With Gradient Descent"
   ]
  },
  {
   "cell_type": "code",
   "execution_count": null,
   "metadata": {},
   "outputs": [],
   "source": [
    "iterations = 100\n",
    "\n",
    "def gradient_descent(x,y):\n",
    "    m_curr = b_curr = 0\n",
    "    n = len(x)\n",
    "    learning_rate = 0.01\n",
    "    m = []\n",
    "    b = []\n",
    "    cost_func = []\n",
    "    \n",
    "    for i in range(iterations):\n",
    "        y_predicted = m_curr * x + b_curr\n",
    "        cost = (1/n) * sum((y - y_predicted)**2)\n",
    "        md = -(2/n) * sum(x*(y- y_predicted))\n",
    "        bd = -(2/n) * sum(y- y_predicted)\n",
    "        m_curr -= learning_rate * md\n",
    "        b_curr -= learning_rate * bd\n",
    "        print(\"i = {}, m = {}, b = {}, cost = {}\".format(i, m_curr, b_curr, cost))\n",
    "        m.append(m_curr)\n",
    "        b.append(b_curr)\n",
    "        cost_func.append(cost)\n",
    "    return m, b, cost_func"
   ]
  },
  {
   "cell_type": "code",
   "execution_count": null,
   "metadata": {},
   "outputs": [],
   "source": [
    "m, b, cost_func = gradient_descent(X, Y)"
   ]
  },
  {
   "cell_type": "code",
   "execution_count": null,
   "metadata": {},
   "outputs": [],
   "source": [
    "plt.plot(np.arange(iterations),cost_func, color='b')\n",
    "plt.xlabel('Number of iterations',color='red')\n",
    "plt.ylabel('Cost',color='red')\n",
    "plt.title('Cost vs iterations',color='green',fontsize=16)\n",
    "plt.show()"
   ]
  },
  {
   "cell_type": "code",
   "execution_count": null,
   "metadata": {},
   "outputs": [],
   "source": [
    "print(\"Mean squared error (Test Dataset): %.2f\" %mean_squared_error(m[-1]*X + b[-1],X))"
   ]
  },
  {
   "cell_type": "code",
   "execution_count": null,
   "metadata": {},
   "outputs": [],
   "source": [
    "plt.scatter(X,Y,marker='.')\n",
    "plt.plot(X,(m[-1]*X + b[-1]))\n",
    "plt.xlabel('Petal Length(in cm)')\n",
    "plt.ylabel('Petal Width(in cm)')\n",
    "plt.title('Petal length vs width of Iris-Setosa Species',color='green',fontsize=16)\n",
    "plt.show()"
   ]
  },
  {
   "cell_type": "code",
   "execution_count": null,
   "metadata": {},
   "outputs": [],
   "source": [
    "print(\"Mean squared error (Test Dataset): %.2f\" %mean_squared_error(Y,X))"
   ]
  },
  {
   "cell_type": "code",
   "execution_count": null,
   "metadata": {},
   "outputs": [],
   "source": [
    "fig = plt.figure()\n",
    "ax = fig.add_subplot(111)\n",
    "\n",
    "plt.scatter(X,Y,marker='.')\n",
    "# Without Gradient Descent\n",
    "plt.plot(X, regr.coef_[0][0]*X + regr.intercept_[0], '-r')\n",
    "\n",
    "# With Gradient Descent\n",
    "plt.plot(X,m[-1]*X + b[-1],'g')\n",
    "\n",
    "plt.xlabel('Petal Length(in cm)')\n",
    "plt.ylabel('Petal Width(in cm)')\n",
    "plt.title('Petal length vs width of Iris-Setosa Species',color='b',fontsize=16)\n",
    "plt.show()"
   ]
  },
  {
   "cell_type": "code",
   "execution_count": null,
   "metadata": {},
   "outputs": [],
   "source": []
  }
 ],
 "metadata": {
  "kernelspec": {
   "display_name": "Python 3",
   "language": "python",
   "name": "python3"
  },
  "language_info": {
   "codemirror_mode": {
    "name": "ipython",
    "version": 3
   },
   "file_extension": ".py",
   "mimetype": "text/x-python",
   "name": "python",
   "nbconvert_exporter": "python",
   "pygments_lexer": "ipython3",
   "version": "3.7.1"
  }
 },
 "nbformat": 4,
 "nbformat_minor": 2
}
