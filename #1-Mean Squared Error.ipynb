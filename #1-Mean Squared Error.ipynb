{
 "cells": [
  {
   "cell_type": "markdown",
   "metadata": {},
   "source": [
    "<h1 style=\"color:red\"> Univariate Analysis to Calculate Mean Squared Loss </h1>"
   ]
  },
  {
   "cell_type": "markdown",
   "metadata": {},
   "source": [
    "# For Teacher1:\n",
    "<img src=\"Marksheet1.png\" width=250>\n",
    "<img src=\"Model1.png\">"
   ]
  },
  {
   "cell_type": "code",
   "execution_count": 6,
   "metadata": {},
   "outputs": [
    {
     "name": "stdout",
     "output_type": "stream",
     "text": [
      "12.8\n"
     ]
    }
   ],
   "source": [
    "import numpy as np \n",
    "\n",
    "# Given values \n",
    "Y_true = [19,17,9,13,12] # Y_true = Y (original values) \n",
    "\n",
    "# calculated values \n",
    "Y_pred = 14 # Y_pred = Y' [14,14,14,14,14]\n",
    "\n",
    "# Mean Squared Error \n",
    "MSE = np.square(np.subtract(Y_true,Y_pred)).mean()\n",
    "\n",
    "print(MSE)"
   ]
  },
  {
   "cell_type": "code",
   "execution_count": 7,
   "metadata": {},
   "outputs": [
    {
     "name": "stdout",
     "output_type": "stream",
     "text": [
      "12.8\n"
     ]
    }
   ],
   "source": [
    "from sklearn.metrics import mean_squared_error \n",
    "\n",
    "# Given values \n",
    "Y_true = [19,17,9,13,12] # Y_true = Y (original values) \n",
    "\n",
    "# calculated values \n",
    "Y_pred = [14,14,14,14,14] # Y_pred = Y' \n",
    "\n",
    "# Calculation of Mean Squared Error (MSE) \n",
    "MSE = mean_squared_error(Y_true,Y_pred)\n",
    "\n",
    "print(MSE)"
   ]
  },
  {
   "cell_type": "markdown",
   "metadata": {},
   "source": [
    "# For Teacher2:\n",
    "<img src=\"Marksheet2.png\" width=250>\n",
    "<img src=\"Model2.png\">"
   ]
  },
  {
   "cell_type": "code",
   "execution_count": 8,
   "metadata": {},
   "outputs": [
    {
     "name": "stdout",
     "output_type": "stream",
     "text": [
      "2.0\n"
     ]
    }
   ],
   "source": [
    "# Given values \n",
    "Y_true = [14,15,16,13,12] # Y_true = Y (original values) \n",
    "\n",
    "# calculated values \n",
    "Y_pred = [14,14,14,14,14] # Y_pred = Y' \n",
    "\n",
    "# Mean Squared Error \n",
    "MSE = np.square(np.subtract(Y_true,Y_pred)).mean() \n",
    "\n",
    "print(MSE)"
   ]
  },
  {
   "cell_type": "code",
   "execution_count": 9,
   "metadata": {},
   "outputs": [
    {
     "name": "stdout",
     "output_type": "stream",
     "text": [
      "2.0\n"
     ]
    }
   ],
   "source": [
    "# Given values \n",
    "Y_true = [14,15,16,13,12] # Y_true = Y (original values) \n",
    "\n",
    "# calculated values \n",
    "Y_pred = [14,14,14,14,14] # Y_pred = Y' \n",
    "\n",
    "# Calculation of Mean Squared Error (MSE) \n",
    "MSE = mean_squared_error(Y_true,Y_pred)\n",
    "\n",
    "print(MSE)"
   ]
  },
  {
   "cell_type": "code",
   "execution_count": null,
   "metadata": {},
   "outputs": [],
   "source": []
  }
 ],
 "metadata": {
  "kernelspec": {
   "display_name": "Python 3",
   "language": "python",
   "name": "python3"
  },
  "language_info": {
   "codemirror_mode": {
    "name": "ipython",
    "version": 3
   },
   "file_extension": ".py",
   "mimetype": "text/x-python",
   "name": "python",
   "nbconvert_exporter": "python",
   "pygments_lexer": "ipython3",
   "version": "3.7.1"
  }
 },
 "nbformat": 4,
 "nbformat_minor": 2
}
